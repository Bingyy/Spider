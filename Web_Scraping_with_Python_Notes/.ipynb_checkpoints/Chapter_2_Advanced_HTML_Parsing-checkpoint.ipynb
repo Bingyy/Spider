{
 "cells": [
  {
   "cell_type": "markdown",
   "metadata": {},
   "source": [
    "### 进阶的爬虫知识积累：HTML解析\n",
    "\n",
    "> 很简单，你只需要去掉不像David的部分。 -- 米开朗琪罗\n",
    "\n",
    "虽然网络爬虫很多方面并不像雕塑，但是在提取有用信息方面却值得用同样的态度来对待。有很多种方式去掉我们不感兴趣的内容，直到拿到我们想要的数据为止。在**复杂的**HTML文档中，找寻我们需要的知识点是本章的主题。\n",
    "\n",
    "但是，首先需要明确你需要的数据是什么，否则会陷入一个盲目的状态。\n",
    "\n",
    "看下面这个写法：\n",
    "\n",
    "`bsObj.findAll('table')[4].findAll('tr')[2].find('td').findAll('div')[1].find('a')`,这种写法会使得爬虫很虚弱，网页轻微变动，就能崩溃这种写法的爬虫。\n",
    "\n",
    "面临目标数据藏得很深，或者组织很散漫的数据时，记住，不要马上开始挖掘，而是深呼吸，想好对策再下手。\n",
    "\n",
    "### BS用法详解\n",
    "\n",
    "- 通过属性查找tag\n",
    "- 树形索引\n",
    "\n",
    "CSS文件对于爬虫是有好处的，记得CSS中的`class`,`id`吗？"
   ]
  },
  {
   "cell_type": "code",
   "execution_count": 1,
   "metadata": {},
   "outputs": [
    {
     "name": "stderr",
     "output_type": "stream",
     "text": [
      "/Users/rick/anaconda3/lib/python3.6/site-packages/bs4/__init__.py:181: UserWarning: No parser was explicitly specified, so I'm using the best available HTML parser for this system (\"lxml\"). This usually isn't a problem, but if you run this code on another system, or in a different virtual environment, it may use a different parser and behave differently.\n",
      "\n",
      "The code that caused this warning is on line 193 of the file /Users/rick/anaconda3/lib/python3.6/runpy.py. To get rid of this warning, change code that looks like this:\n",
      "\n",
      " BeautifulSoup(YOUR_MARKUP})\n",
      "\n",
      "to this:\n",
      "\n",
      " BeautifulSoup(YOUR_MARKUP, \"lxml\")\n",
      "\n",
      "  markup_type=markup_type))\n"
     ]
    }
   ],
   "source": [
    "from urllib.request import urlopen\n",
    "from bs4 import BeautifulSoup\n",
    "html = urlopen('http://pythonscraping.com/pages/warandpeace.html')\n",
    "bsObj = BeautifulSoup(html)"
   ]
  },
  {
   "cell_type": "code",
   "execution_count": 4,
   "metadata": {},
   "outputs": [],
   "source": [
    "nameList = bsObj.findAll('span',{'class':'green'}) # 拿到所有span且CSS类为green的标签"
   ]
  },
  {
   "cell_type": "code",
   "execution_count": 9,
   "metadata": {
    "scrolled": true
   },
   "outputs": [
    {
     "name": "stdout",
     "output_type": "stream",
     "text": [
      "Anna\n",
      "Pavlovna Scherer\n",
      "Empress Marya\n",
      "Fedorovna\n",
      "Prince Vasili Kuragin\n",
      "Anna Pavlovna\n",
      "St. Petersburg\n",
      "the prince\n",
      "Anna Pavlovna\n",
      "Anna Pavlovna\n",
      "the prince\n",
      "the prince\n",
      "the prince\n",
      "Prince Vasili\n",
      "Anna Pavlovna\n",
      "Anna Pavlovna\n",
      "the prince\n",
      "Wintzingerode\n",
      "King of Prussia\n",
      "le Vicomte de Mortemart\n",
      "Montmorencys\n",
      "Rohans\n",
      "Abbe Morio\n",
      "the Emperor\n",
      "the prince\n",
      "Prince Vasili\n",
      "Dowager Empress Marya Fedorovna\n",
      "the baron\n",
      "Anna Pavlovna\n",
      "the Empress\n",
      "the Empress\n",
      "Anna Pavlovna's\n",
      "Her Majesty\n",
      "Baron\n",
      "Funke\n",
      "The prince\n",
      "Anna\n",
      "Pavlovna\n",
      "the Empress\n",
      "The prince\n",
      "Anatole\n",
      "the prince\n",
      "The prince\n",
      "Anna\n",
      "Pavlovna\n",
      "Anna Pavlovna\n"
     ]
    }
   ],
   "source": [
    "for name in nameList:\n",
    "    print(name.get_text())"
   ]
  },
  {
   "cell_type": "code",
   "execution_count": 6,
   "metadata": {},
   "outputs": [],
   "source": [
    "temp = bsObj.findAll('span',{'class','red'})"
   ]
  },
  {
   "cell_type": "code",
   "execution_count": 11,
   "metadata": {},
   "outputs": [],
   "source": [
    "# for some in temp:\n",
    "#     print(some.get_text(),'\\n')"
   ]
  },
  {
   "cell_type": "markdown",
   "metadata": {},
   "source": [
    "### 小总结\n",
    "\n",
    "上面是通过`bsObj.findAll(tagName, tagAttributes)`拿到一个内容列表，接着用`name.get_text()`拿到我们需要的内容，不包含尖刀标签。\n",
    "\n",
    "但是要记住，`get_text()`函数不要常用，因为查询内容，在bsObj中要容易很多。那保留完整的tag结构的文档，是很重要的。"
   ]
  },
  {
   "cell_type": "markdown",
   "metadata": {},
   "source": [
    "### find() vs. findAll()\n",
    "\n",
    "find返回的是搜索到的第一个值。\n",
    "\n",
    "95%的情况下，二者都只需要用到前两个参数：\n",
    "\n",
    "- tag\n",
    "- attributes\n",
    "\n",
    "注意tag可以是多个。\n",
    "\n",
    "`findAll({'h1','h2','h3'},{'class': 'green', 'class':'red'})`\n",
    "\n",
    "第三个参数是`recursive`，默认为`True`.\n",
    "\n",
    "第四个参数是`text`，可以根据指定text内容做过滤。\n",
    "\n",
    "至于二者共同的最后一个参数是`keyword`,但是这个参数比较鸡肋。正则表达式或者Lambda表达式会更好用。**注意findAll**倒数第二个参数是`limit`，在“取出前多少items”这种情况下可用。"
   ]
  },
  {
   "cell_type": "code",
   "execution_count": 28,
   "metadata": {},
   "outputs": [],
   "source": [
    "nameList = bsObj.findAll(text='the prince') # 测试了一下 需要是精确匹配才行"
   ]
  },
  {
   "cell_type": "code",
   "execution_count": 27,
   "metadata": {},
   "outputs": [
    {
     "name": "stdout",
     "output_type": "stream",
     "text": [
      "7\n"
     ]
    }
   ],
   "source": [
    "print(len(nameList))"
   ]
  },
  {
   "cell_type": "markdown",
   "metadata": {},
   "source": [
    "### BS的四类对象\n",
    "\n",
    "- BeautifulSoup对象\n",
    "- Tag对象，通过`find`,`findAll`得到的结果\n",
    "- NavigableString对象\n",
    "- Comment对象，能够找到`<!--like this-->`这类数据"
   ]
  },
  {
   "cell_type": "markdown",
   "metadata": {},
   "source": [
    "### 导航树\n",
    "\n",
    "目前为止用到的查找函数都是根据尖刀标签的名字和属性，但是如果我们需要的是根据数据在文档中的位置呢？\n",
    "\n",
    "#### children和descendants的区别\n",
    "\n",
    "孩子就是下一代，后代是指很多代。清楚了吧！\n"
   ]
  },
  {
   "cell_type": "code",
   "execution_count": 29,
   "metadata": {},
   "outputs": [
    {
     "name": "stderr",
     "output_type": "stream",
     "text": [
      "/Users/rick/anaconda3/lib/python3.6/site-packages/bs4/__init__.py:181: UserWarning: No parser was explicitly specified, so I'm using the best available HTML parser for this system (\"lxml\"). This usually isn't a problem, but if you run this code on another system, or in a different virtual environment, it may use a different parser and behave differently.\n",
      "\n",
      "The code that caused this warning is on line 193 of the file /Users/rick/anaconda3/lib/python3.6/runpy.py. To get rid of this warning, change code that looks like this:\n",
      "\n",
      " BeautifulSoup(YOUR_MARKUP})\n",
      "\n",
      "to this:\n",
      "\n",
      " BeautifulSoup(YOUR_MARKUP, \"lxml\")\n",
      "\n",
      "  markup_type=markup_type))\n"
     ]
    }
   ],
   "source": [
    "from urllib.request import urlopen\n",
    "from bs4 import BeautifulSoup\n",
    "\n",
    "html = urlopen('http://pythonscraping.com/pages/page3.html')\n",
    "bsObj = BeautifulSoup(html)"
   ]
  },
  {
   "cell_type": "code",
   "execution_count": 31,
   "metadata": {},
   "outputs": [
    {
     "name": "stdout",
     "output_type": "stream",
     "text": [
      "\n",
      "\n",
      "<tr><th>\n",
      "Item Title\n",
      "</th><th>\n",
      "Description\n",
      "</th><th>\n",
      "Cost\n",
      "</th><th>\n",
      "Image\n",
      "</th></tr>\n",
      "\n",
      "\n",
      "<tr class=\"gift\" id=\"gift1\"><td>\n",
      "Vegetable Basket\n",
      "</td><td>\n",
      "This vegetable basket is the perfect gift for your health conscious (or overweight) friends!\n",
      "<span class=\"excitingNote\">Now with super-colorful bell peppers!</span>\n",
      "</td><td>\n",
      "$15.00\n",
      "</td><td>\n",
      "<img src=\"../img/gifts/img1.jpg\"/>\n",
      "</td></tr>\n",
      "\n",
      "\n",
      "<tr class=\"gift\" id=\"gift2\"><td>\n",
      "Russian Nesting Dolls\n",
      "</td><td>\n",
      "Hand-painted by trained monkeys, these exquisite dolls are priceless! And by \"priceless,\" we mean \"extremely expensive\"! <span class=\"excitingNote\">8 entire dolls per set! Octuple the presents!</span>\n",
      "</td><td>\n",
      "$10,000.52\n",
      "</td><td>\n",
      "<img src=\"../img/gifts/img2.jpg\"/>\n",
      "</td></tr>\n",
      "\n",
      "\n",
      "<tr class=\"gift\" id=\"gift3\"><td>\n",
      "Fish Painting\n",
      "</td><td>\n",
      "If something seems fishy about this painting, it's because it's a fish! <span class=\"excitingNote\">Also hand-painted by trained monkeys!</span>\n",
      "</td><td>\n",
      "$10,005.00\n",
      "</td><td>\n",
      "<img src=\"../img/gifts/img3.jpg\"/>\n",
      "</td></tr>\n",
      "\n",
      "\n",
      "<tr class=\"gift\" id=\"gift4\"><td>\n",
      "Dead Parrot\n",
      "</td><td>\n",
      "This is an ex-parrot! <span class=\"excitingNote\">Or maybe he's only resting?</span>\n",
      "</td><td>\n",
      "$0.50\n",
      "</td><td>\n",
      "<img src=\"../img/gifts/img4.jpg\"/>\n",
      "</td></tr>\n",
      "\n",
      "\n",
      "<tr class=\"gift\" id=\"gift5\"><td>\n",
      "Mystery Box\n",
      "</td><td>\n",
      "If you love suprises, this mystery box is for you! Do not place on light-colored surfaces. May cause oil staining. <span class=\"excitingNote\">Keep your friends guessing!</span>\n",
      "</td><td>\n",
      "$1.50\n",
      "</td><td>\n",
      "<img src=\"../img/gifts/img6.jpg\"/>\n",
      "</td></tr>\n",
      "\n",
      "\n"
     ]
    }
   ],
   "source": [
    "for child in bsObj.find('table',{'id':'giftList'}).children:\n",
    "    print(child)"
   ]
  },
  {
   "cell_type": "code",
   "execution_count": 32,
   "metadata": {},
   "outputs": [
    {
     "name": "stdout",
     "output_type": "stream",
     "text": [
      "\n",
      "\n",
      "<tr><th>\n",
      "Item Title\n",
      "</th><th>\n",
      "Description\n",
      "</th><th>\n",
      "Cost\n",
      "</th><th>\n",
      "Image\n",
      "</th></tr>\n",
      "<th>\n",
      "Item Title\n",
      "</th>\n",
      "\n",
      "Item Title\n",
      "\n",
      "<th>\n",
      "Description\n",
      "</th>\n",
      "\n",
      "Description\n",
      "\n",
      "<th>\n",
      "Cost\n",
      "</th>\n",
      "\n",
      "Cost\n",
      "\n",
      "<th>\n",
      "Image\n",
      "</th>\n",
      "\n",
      "Image\n",
      "\n",
      "\n",
      "\n",
      "<tr class=\"gift\" id=\"gift1\"><td>\n",
      "Vegetable Basket\n",
      "</td><td>\n",
      "This vegetable basket is the perfect gift for your health conscious (or overweight) friends!\n",
      "<span class=\"excitingNote\">Now with super-colorful bell peppers!</span>\n",
      "</td><td>\n",
      "$15.00\n",
      "</td><td>\n",
      "<img src=\"../img/gifts/img1.jpg\"/>\n",
      "</td></tr>\n",
      "<td>\n",
      "Vegetable Basket\n",
      "</td>\n",
      "\n",
      "Vegetable Basket\n",
      "\n",
      "<td>\n",
      "This vegetable basket is the perfect gift for your health conscious (or overweight) friends!\n",
      "<span class=\"excitingNote\">Now with super-colorful bell peppers!</span>\n",
      "</td>\n",
      "\n",
      "This vegetable basket is the perfect gift for your health conscious (or overweight) friends!\n",
      "\n",
      "<span class=\"excitingNote\">Now with super-colorful bell peppers!</span>\n",
      "Now with super-colorful bell peppers!\n",
      "\n",
      "\n",
      "<td>\n",
      "$15.00\n",
      "</td>\n",
      "\n",
      "$15.00\n",
      "\n",
      "<td>\n",
      "<img src=\"../img/gifts/img1.jpg\"/>\n",
      "</td>\n",
      "\n",
      "\n",
      "<img src=\"../img/gifts/img1.jpg\"/>\n",
      "\n",
      "\n",
      "\n",
      "\n",
      "<tr class=\"gift\" id=\"gift2\"><td>\n",
      "Russian Nesting Dolls\n",
      "</td><td>\n",
      "Hand-painted by trained monkeys, these exquisite dolls are priceless! And by \"priceless,\" we mean \"extremely expensive\"! <span class=\"excitingNote\">8 entire dolls per set! Octuple the presents!</span>\n",
      "</td><td>\n",
      "$10,000.52\n",
      "</td><td>\n",
      "<img src=\"../img/gifts/img2.jpg\"/>\n",
      "</td></tr>\n",
      "<td>\n",
      "Russian Nesting Dolls\n",
      "</td>\n",
      "\n",
      "Russian Nesting Dolls\n",
      "\n",
      "<td>\n",
      "Hand-painted by trained monkeys, these exquisite dolls are priceless! And by \"priceless,\" we mean \"extremely expensive\"! <span class=\"excitingNote\">8 entire dolls per set! Octuple the presents!</span>\n",
      "</td>\n",
      "\n",
      "Hand-painted by trained monkeys, these exquisite dolls are priceless! And by \"priceless,\" we mean \"extremely expensive\"! \n",
      "<span class=\"excitingNote\">8 entire dolls per set! Octuple the presents!</span>\n",
      "8 entire dolls per set! Octuple the presents!\n",
      "\n",
      "\n",
      "<td>\n",
      "$10,000.52\n",
      "</td>\n",
      "\n",
      "$10,000.52\n",
      "\n",
      "<td>\n",
      "<img src=\"../img/gifts/img2.jpg\"/>\n",
      "</td>\n",
      "\n",
      "\n",
      "<img src=\"../img/gifts/img2.jpg\"/>\n",
      "\n",
      "\n",
      "\n",
      "\n",
      "<tr class=\"gift\" id=\"gift3\"><td>\n",
      "Fish Painting\n",
      "</td><td>\n",
      "If something seems fishy about this painting, it's because it's a fish! <span class=\"excitingNote\">Also hand-painted by trained monkeys!</span>\n",
      "</td><td>\n",
      "$10,005.00\n",
      "</td><td>\n",
      "<img src=\"../img/gifts/img3.jpg\"/>\n",
      "</td></tr>\n",
      "<td>\n",
      "Fish Painting\n",
      "</td>\n",
      "\n",
      "Fish Painting\n",
      "\n",
      "<td>\n",
      "If something seems fishy about this painting, it's because it's a fish! <span class=\"excitingNote\">Also hand-painted by trained monkeys!</span>\n",
      "</td>\n",
      "\n",
      "If something seems fishy about this painting, it's because it's a fish! \n",
      "<span class=\"excitingNote\">Also hand-painted by trained monkeys!</span>\n",
      "Also hand-painted by trained monkeys!\n",
      "\n",
      "\n",
      "<td>\n",
      "$10,005.00\n",
      "</td>\n",
      "\n",
      "$10,005.00\n",
      "\n",
      "<td>\n",
      "<img src=\"../img/gifts/img3.jpg\"/>\n",
      "</td>\n",
      "\n",
      "\n",
      "<img src=\"../img/gifts/img3.jpg\"/>\n",
      "\n",
      "\n",
      "\n",
      "\n",
      "<tr class=\"gift\" id=\"gift4\"><td>\n",
      "Dead Parrot\n",
      "</td><td>\n",
      "This is an ex-parrot! <span class=\"excitingNote\">Or maybe he's only resting?</span>\n",
      "</td><td>\n",
      "$0.50\n",
      "</td><td>\n",
      "<img src=\"../img/gifts/img4.jpg\"/>\n",
      "</td></tr>\n",
      "<td>\n",
      "Dead Parrot\n",
      "</td>\n",
      "\n",
      "Dead Parrot\n",
      "\n",
      "<td>\n",
      "This is an ex-parrot! <span class=\"excitingNote\">Or maybe he's only resting?</span>\n",
      "</td>\n",
      "\n",
      "This is an ex-parrot! \n",
      "<span class=\"excitingNote\">Or maybe he's only resting?</span>\n",
      "Or maybe he's only resting?\n",
      "\n",
      "\n",
      "<td>\n",
      "$0.50\n",
      "</td>\n",
      "\n",
      "$0.50\n",
      "\n",
      "<td>\n",
      "<img src=\"../img/gifts/img4.jpg\"/>\n",
      "</td>\n",
      "\n",
      "\n",
      "<img src=\"../img/gifts/img4.jpg\"/>\n",
      "\n",
      "\n",
      "\n",
      "\n",
      "<tr class=\"gift\" id=\"gift5\"><td>\n",
      "Mystery Box\n",
      "</td><td>\n",
      "If you love suprises, this mystery box is for you! Do not place on light-colored surfaces. May cause oil staining. <span class=\"excitingNote\">Keep your friends guessing!</span>\n",
      "</td><td>\n",
      "$1.50\n",
      "</td><td>\n",
      "<img src=\"../img/gifts/img6.jpg\"/>\n",
      "</td></tr>\n",
      "<td>\n",
      "Mystery Box\n",
      "</td>\n",
      "\n",
      "Mystery Box\n",
      "\n",
      "<td>\n",
      "If you love suprises, this mystery box is for you! Do not place on light-colored surfaces. May cause oil staining. <span class=\"excitingNote\">Keep your friends guessing!</span>\n",
      "</td>\n",
      "\n",
      "If you love suprises, this mystery box is for you! Do not place on light-colored surfaces. May cause oil staining. \n",
      "<span class=\"excitingNote\">Keep your friends guessing!</span>\n",
      "Keep your friends guessing!\n",
      "\n",
      "\n",
      "<td>\n",
      "$1.50\n",
      "</td>\n",
      "\n",
      "$1.50\n",
      "\n",
      "<td>\n",
      "<img src=\"../img/gifts/img6.jpg\"/>\n",
      "</td>\n",
      "\n",
      "\n",
      "<img src=\"../img/gifts/img6.jpg\"/>\n",
      "\n",
      "\n",
      "\n",
      "\n"
     ]
    }
   ],
   "source": [
    "for child in bsObj.find('table',{'id':'giftList'}).descendants:\n",
    "    print(child)"
   ]
  },
  {
   "cell_type": "code",
   "execution_count": 34,
   "metadata": {},
   "outputs": [
    {
     "name": "stdout",
     "output_type": "stream",
     "text": [
      "\n",
      "\n",
      "<tr class=\"gift\" id=\"gift1\"><td>\n",
      "Vegetable Basket\n",
      "</td><td>\n",
      "This vegetable basket is the perfect gift for your health conscious (or overweight) friends!\n",
      "<span class=\"excitingNote\">Now with super-colorful bell peppers!</span>\n",
      "</td><td>\n",
      "$15.00\n",
      "</td><td>\n",
      "<img src=\"../img/gifts/img1.jpg\"/>\n",
      "</td></tr>\n",
      "\n",
      "\n",
      "<tr class=\"gift\" id=\"gift2\"><td>\n",
      "Russian Nesting Dolls\n",
      "</td><td>\n",
      "Hand-painted by trained monkeys, these exquisite dolls are priceless! And by \"priceless,\" we mean \"extremely expensive\"! <span class=\"excitingNote\">8 entire dolls per set! Octuple the presents!</span>\n",
      "</td><td>\n",
      "$10,000.52\n",
      "</td><td>\n",
      "<img src=\"../img/gifts/img2.jpg\"/>\n",
      "</td></tr>\n",
      "\n",
      "\n",
      "<tr class=\"gift\" id=\"gift3\"><td>\n",
      "Fish Painting\n",
      "</td><td>\n",
      "If something seems fishy about this painting, it's because it's a fish! <span class=\"excitingNote\">Also hand-painted by trained monkeys!</span>\n",
      "</td><td>\n",
      "$10,005.00\n",
      "</td><td>\n",
      "<img src=\"../img/gifts/img3.jpg\"/>\n",
      "</td></tr>\n",
      "\n",
      "\n",
      "<tr class=\"gift\" id=\"gift4\"><td>\n",
      "Dead Parrot\n",
      "</td><td>\n",
      "This is an ex-parrot! <span class=\"excitingNote\">Or maybe he's only resting?</span>\n",
      "</td><td>\n",
      "$0.50\n",
      "</td><td>\n",
      "<img src=\"../img/gifts/img4.jpg\"/>\n",
      "</td></tr>\n",
      "\n",
      "\n",
      "<tr class=\"gift\" id=\"gift5\"><td>\n",
      "Mystery Box\n",
      "</td><td>\n",
      "If you love suprises, this mystery box is for you! Do not place on light-colored surfaces. May cause oil staining. <span class=\"excitingNote\">Keep your friends guessing!</span>\n",
      "</td><td>\n",
      "$1.50\n",
      "</td><td>\n",
      "<img src=\"../img/gifts/img6.jpg\"/>\n",
      "</td></tr>\n",
      "\n",
      "\n"
     ]
    }
   ],
   "source": [
    "for sibling in bsObj.find('table',{'id':'giftList'}).tr.next_siblings: # 第一行不在此列\n",
    "    print(sibling)"
   ]
  },
  {
   "cell_type": "markdown",
   "metadata": {},
   "source": [
    "### 为了爬虫的健壮性\n",
    "\n",
    "上面的写法实际上是不够健壮的，页面改动后，可能就不是我们需要的内容了。而为了让爬虫更加健壮，需要更多利用属性来做，属性是相对稳定些的。\n",
    "\n",
    "- next_siblings\n",
    "- previous_siblings\n",
    "\n",
    "这些函数都先混个脸熟。"
   ]
  },
  {
   "cell_type": "markdown",
   "metadata": {},
   "source": [
    "要明确一个观点是：从你所在的标签出发到你想要找到的标签，这条路是弯弯曲曲的。所以，需要用到：\n",
    "\n",
    "- .previous_sibling\n",
    "- .next_sibling\n",
    "- .parent\n",
    "- .parents\n",
    "\n",
    "等等，这些不是方法，而是属性，不要用调用方法的方式来使用。\n",
    "\n",
    "运用之妙，存乎一心，具体的小模块，要通过分解学习，实际操练然后熟练掌握。"
   ]
  },
  {
   "cell_type": "code",
   "execution_count": 39,
   "metadata": {},
   "outputs": [
    {
     "name": "stdout",
     "output_type": "stream",
     "text": [
      "\n",
      "$15.00\n",
      "\n"
     ]
    },
    {
     "name": "stderr",
     "output_type": "stream",
     "text": [
      "/Users/rick/anaconda3/lib/python3.6/site-packages/bs4/__init__.py:181: UserWarning: No parser was explicitly specified, so I'm using the best available HTML parser for this system (\"lxml\"). This usually isn't a problem, but if you run this code on another system, or in a different virtual environment, it may use a different parser and behave differently.\n",
      "\n",
      "The code that caused this warning is on line 193 of the file /Users/rick/anaconda3/lib/python3.6/runpy.py. To get rid of this warning, change code that looks like this:\n",
      "\n",
      " BeautifulSoup(YOUR_MARKUP})\n",
      "\n",
      "to this:\n",
      "\n",
      " BeautifulSoup(YOUR_MARKUP, \"lxml\")\n",
      "\n",
      "  markup_type=markup_type))\n"
     ]
    }
   ],
   "source": [
    "from urllib.request import urlopen\n",
    "from bs4 import BeautifulSoup\n",
    "\n",
    "html = urlopen('http://pythonscraping.com/pages/page3.html')\n",
    "bsObj = BeautifulSoup(html)\n",
    "\n",
    "temp = bsObj.find('img',{'src': '../img/gifts/img1.jpg'}).parent.previous_sibling.get_text()\n",
    "print(temp)"
   ]
  },
  {
   "cell_type": "markdown",
   "metadata": {},
   "source": [
    "### 正则表达式\n",
    "\n",
    "> 假设你有一个问题需要用正则表达式来解决，那么，现在你有两个问题了。\n",
    "\n",
    "正则表达式很强大，很强大。\n",
    "\n",
    "你指定的规则，通过正则表达式能够精确找到对应的数据。\n",
    "\n",
    "`aa*bbbb(cc)*(d| )`.\n",
    "\n",
    "下面自然进入实践环节。"
   ]
  },
  {
   "cell_type": "markdown",
   "metadata": {},
   "source": [
    "# 识别邮件地址\n",
    "\n",
    "[A-Za-z0-9\\._+]+ : 加号表示至少有一个\n",
    "\n",
    "完整组合出来的邮件地址规则是：\n",
    "\n",
    "[A-Za-z0-9\\._+]+@[A-Za-z]+\\.(com|org|edu|net)"
   ]
  },
  {
   "cell_type": "markdown",
   "metadata": {},
   "source": [
    "### 12个常见的正则表达式在Python中的用法\n",
    "\n",
    "1. *: 与前面的字符相同的字符，0个或多个\n",
    "2. +: 与前面的字符相同的字符，1个或多个\n",
    "3. []: 从中括号内随便选**一个**\n",
    "4. (): 括号就是用来管理优先级的\n",
    "5. {m,n}: 前面的字符出现m~n次，注意这是可取m,n\n",
    "6. [^]: 非，不在括号内的字符，比如：[^A-Z]*，就表示只要不是大写字母即可，apple, lowercase等都满足\n",
    "7. |: 或\n",
    "8. .: 任意单个字符均可，比如：b.d ==> bid, bad, bzd, b$d, b d都行\n",
    "9. ^: 表明此符号后面的字符是首字符，比如：^a ==> apple, asdf\n",
    "10. \\: 转义字符\n",
    "11. \\$: 表明此符号前面的字符是结束字符\n",
    "12. ?!: 不包含，使用小心"
   ]
  },
  {
   "cell_type": "code",
   "execution_count": 42,
   "metadata": {},
   "outputs": [
    {
     "name": "stderr",
     "output_type": "stream",
     "text": [
      "/Users/rick/anaconda3/lib/python3.6/site-packages/bs4/__init__.py:181: UserWarning: No parser was explicitly specified, so I'm using the best available HTML parser for this system (\"lxml\"). This usually isn't a problem, but if you run this code on another system, or in a different virtual environment, it may use a different parser and behave differently.\n",
      "\n",
      "The code that caused this warning is on line 193 of the file /Users/rick/anaconda3/lib/python3.6/runpy.py. To get rid of this warning, change code that looks like this:\n",
      "\n",
      " BeautifulSoup(YOUR_MARKUP})\n",
      "\n",
      "to this:\n",
      "\n",
      " BeautifulSoup(YOUR_MARKUP, \"lxml\")\n",
      "\n",
      "  markup_type=markup_type))\n"
     ]
    }
   ],
   "source": [
    "from urllib.request import urlopen\n",
    "from bs4 import BeautifulSoup\n",
    "import re # 引入正则表达式包\n",
    "\n",
    "html = urlopen('http://pythonscraping.com/pages/page3.html')\n",
    "bsObj = BeautifulSoup(html)\n",
    "images = bsObj.findAll('img',{'src':re.compile('\\.\\.\\/img\\/gifts\\/img.*\\.jpg')}) #正则表达式用在这里哦~~"
   ]
  },
  {
   "cell_type": "code",
   "execution_count": 41,
   "metadata": {},
   "outputs": [
    {
     "name": "stdout",
     "output_type": "stream",
     "text": [
      "../img/gifts/img1.jpg\n",
      "../img/gifts/img2.jpg\n",
      "../img/gifts/img3.jpg\n",
      "../img/gifts/img4.jpg\n",
      "../img/gifts/img6.jpg\n"
     ]
    }
   ],
   "source": [
    "for image in images:\n",
    "    print(image['src'])"
   ]
  },
  {
   "cell_type": "markdown",
   "metadata": {},
   "source": [
    "正则表达式是个直达电梯，能够精准，快速帮我们锁定到需要的目标元素。"
   ]
  },
  {
   "cell_type": "markdown",
   "metadata": {},
   "source": [
    "### 标签的属性获取\n",
    "\n",
    "`myTag.attrs`,返回的是一个字典，然后能够通过字典的使用方法拿到具体的属性值。比如：`myTag.attrs['src']`"
   ]
  },
  {
   "cell_type": "markdown",
   "metadata": {},
   "source": [
    "### Lambda表达式\n",
    "\n",
    "本质上说，Lambda表达式就是一类函数，这类函数能够传递到其他函数当作参数或者变量使用。\n",
    "\n",
    "在BS中的`findAll`函数中，我们就可以传递特定类型的函数。这类特定函数就是接收`tag`对象当作参数，返回布尔值。\n",
    "\n",
    "`soup.findAll(lambda tag: len(tag.attrs) == 2)`"
   ]
  },
  {
   "cell_type": "markdown",
   "metadata": {},
   "source": [
    "### BS之外\n",
    "\n",
    "虽然本书主要通过BS来讲解爬虫开发，但是如果有些场景下搞不定，可以去看`lxml`和`HTML Parser`管不管用，这些都是老牌的哦！"
   ]
  }
 ],
 "metadata": {
  "kernelspec": {
   "display_name": "Python 3",
   "language": "python",
   "name": "python3"
  },
  "language_info": {
   "codemirror_mode": {
    "name": "ipython",
    "version": 3
   },
   "file_extension": ".py",
   "mimetype": "text/x-python",
   "name": "python",
   "nbconvert_exporter": "python",
   "pygments_lexer": "ipython3",
   "version": "3.6.4"
  }
 },
 "nbformat": 4,
 "nbformat_minor": 2
}
