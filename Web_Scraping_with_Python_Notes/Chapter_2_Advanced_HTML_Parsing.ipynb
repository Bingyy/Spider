{
 "cells": [
  {
   "cell_type": "markdown",
   "metadata": {},
   "source": [
    "### 进阶的爬虫知识积累：HTML解析\n",
    "\n",
    "> 很简单，你只需要去掉不像David的部分。 -- 米开朗琪罗\n",
    "\n",
    "虽然网络爬虫很多方面并不像雕塑，但是在提取有用信息方面却值得用同样的态度来对待。有很多种方式去掉我们不感兴趣的内容，直到拿到我们想要的数据为止。在**复杂的**HTML文档中，找寻我们需要的知识点是本章的主题。\n",
    "\n",
    "但是，首先需要明确你需要的数据是什么，否则会陷入一个盲目的状态。\n",
    "\n",
    "看下面这个写法：\n",
    "\n",
    "`bsObj.findAll('table')[4].findAll('tr')[2].find('td').findAll('div')[1].find('a')`,这种写法会使得爬虫很虚弱，网页轻微变动，就能崩溃这种写法的爬虫。\n",
    "\n",
    "面临目标数据藏得很深，或者组织很散漫的数据时，记住，不要马上开始挖掘，而是深呼吸，想好对策再下手。\n",
    "\n",
    "### BS用法详解\n",
    "\n",
    "- 通过属性查找tag\n",
    "- 树形索引\n",
    "\n",
    "CSS文件对于爬虫是有好处的，记得CSS中的`class`,`id`吗？"
   ]
  },
  {
   "cell_type": "code",
   "execution_count": 1,
   "metadata": {},
   "outputs": [
    {
     "name": "stderr",
     "output_type": "stream",
     "text": [
      "/Users/rick/anaconda3/lib/python3.6/site-packages/bs4/__init__.py:181: UserWarning: No parser was explicitly specified, so I'm using the best available HTML parser for this system (\"lxml\"). This usually isn't a problem, but if you run this code on another system, or in a different virtual environment, it may use a different parser and behave differently.\n",
      "\n",
      "The code that caused this warning is on line 193 of the file /Users/rick/anaconda3/lib/python3.6/runpy.py. To get rid of this warning, change code that looks like this:\n",
      "\n",
      " BeautifulSoup(YOUR_MARKUP})\n",
      "\n",
      "to this:\n",
      "\n",
      " BeautifulSoup(YOUR_MARKUP, \"lxml\")\n",
      "\n",
      "  markup_type=markup_type))\n"
     ]
    }
   ],
   "source": [
    "from urllib.request import urlopen\n",
    "from bs4 import BeautifulSoup\n",
    "html = urlopen('http://pythonscraping.com/pages/warandpeace.html')\n",
    "bsObj = BeautifulSoup(html)"
   ]
  },
  {
   "cell_type": "code",
   "execution_count": null,
   "metadata": {},
   "outputs": [],
   "source": []
  }
 ],
 "metadata": {
  "kernelspec": {
   "display_name": "Python 3",
   "language": "python",
   "name": "python3"
  },
  "language_info": {
   "codemirror_mode": {
    "name": "ipython",
    "version": 3
   },
   "file_extension": ".py",
   "mimetype": "text/x-python",
   "name": "python",
   "nbconvert_exporter": "python",
   "pygments_lexer": "ipython3",
   "version": "3.6.4"
  }
 },
 "nbformat": 4,
 "nbformat_minor": 2
}
